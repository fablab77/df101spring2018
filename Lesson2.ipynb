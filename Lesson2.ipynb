{
 "cells": [
  {
   "cell_type": "markdown",
   "metadata": {},
   "source": [
    "# DF101 Spring 2018. Class 14.02.2018"
   ]
  },
  {
   "cell_type": "markdown",
   "metadata": {},
   "source": [
    "# I. Test"
   ]
  },
  {
   "cell_type": "markdown",
   "metadata": {},
   "source": [
    "#### 16 min"
   ]
  },
  {
   "cell_type": "markdown",
   "metadata": {},
   "source": [
    "# II. Jupyter"
   ]
  },
  {
   "cell_type": "markdown",
   "metadata": {},
   "source": [
    "### Markdown"
   ]
  },
  {
   "cell_type": "markdown",
   "metadata": {
    "collapsed": true
   },
   "source": [
    "# h1\n",
    "## h2\n",
    "### h3\n",
    "#### h4\n",
    "##### h5\n",
    "###### h6"
   ]
  },
  {
   "cell_type": "markdown",
   "metadata": {
    "collapsed": true
   },
   "source": [
    "---\n",
    "***\n",
    "___"
   ]
  },
  {
   "cell_type": "markdown",
   "metadata": {
    "collapsed": true
   },
   "source": [
    "**bold**"
   ]
  },
  {
   "cell_type": "markdown",
   "metadata": {
    "collapsed": true
   },
   "source": [
    "_italic_"
   ]
  },
  {
   "cell_type": "markdown",
   "metadata": {
    "collapsed": true
   },
   "source": [
    "> Block quotes"
   ]
  },
  {
   "cell_type": "markdown",
   "metadata": {},
   "source": [
    "* list item\n",
    "- list item\n",
    "+ list item\n",
    "    - sublist"
   ]
  },
  {
   "cell_type": "markdown",
   "metadata": {},
   "source": [
    "1. Ordered list item\n",
    "2. Ordered list item\n",
    "2. Ordered list item"
   ]
  },
  {
   "cell_type": "markdown",
   "metadata": {},
   "source": [
    "| Option | Description |\n",
    "| ------ | ----------- |\n",
    "| data   | path to data files to supply the data that will be passed into templates. |\n",
    "| engine | engine to be used for processing templates. Handlebars is the default. |\n",
    "| ext    | extension to be used for dest files. |\n"
   ]
  },
  {
   "cell_type": "markdown",
   "metadata": {},
   "source": [
    "[Fablab](http://fablab77.ru)"
   ]
  },
  {
   "cell_type": "markdown",
   "metadata": {},
   "source": [
    "# Table of Contents\n",
    "  * [Chapter 1](#chapter-1)\n",
    "  * [Chapter 2](#chapter-2)\n",
    "  * [Chapter 3](#chapter-3)"
   ]
  },
  {
   "cell_type": "markdown",
   "metadata": {},
   "source": [
    "## Chapter 1 <a id=\"chapter-1\"></a>\n",
    "Content for chapter one.\n",
    "\n",
    "## Chapter 2 <a id=\"chapter-2\"></a>\n",
    "Content for chapter one.\n",
    "\n",
    "## Chapter 3 <a id=\"chapter-3\"></a>\n",
    "Content for chapter one.\n"
   ]
  },
  {
   "cell_type": "markdown",
   "metadata": {},
   "source": [
    "![Minion](http://octodex.github.com/images/minion.png)"
   ]
  },
  {
   "cell_type": "markdown",
   "metadata": {},
   "source": [
    "### LaTex"
   ]
  },
  {
   "cell_type": "markdown",
   "metadata": {
    "collapsed": true
   },
   "source": [
    " $$c = \\sqrt{a^2 + b^2}$$"
   ]
  },
  {
   "cell_type": "markdown",
   "metadata": {},
   "source": []
  },
  {
   "cell_type": "markdown",
   "metadata": {},
   "source": [
    "### Code"
   ]
  },
  {
   "cell_type": "code",
   "execution_count": 157,
   "metadata": {},
   "outputs": [
    {
     "name": "stdout",
     "output_type": "stream",
     "text": [
      "Hello\n"
     ]
    }
   ],
   "source": [
    "print(\"Hello\")"
   ]
  },
  {
   "cell_type": "code",
   "execution_count": 158,
   "metadata": {
    "scrolled": true
   },
   "outputs": [
    {
     "name": "stdout",
     "output_type": "stream",
     "text": [
      "Azam\n"
     ]
    }
   ],
   "source": [
    "x = input()"
   ]
  },
  {
   "cell_type": "code",
   "execution_count": 159,
   "metadata": {
    "scrolled": false
   },
   "outputs": [
    {
     "name": "stdout",
     "output_type": "stream",
     "text": [
      "Azam\n"
     ]
    }
   ],
   "source": [
    "print(x)"
   ]
  },
  {
   "cell_type": "code",
   "execution_count": 60,
   "metadata": {
    "collapsed": true,
    "scrolled": true
   },
   "outputs": [],
   "source": [
    "from IPython.display import Image\n",
    "Image(filename='yo.png')"
   ]
  },
  {
   "cell_type": "markdown",
   "metadata": {},
   "source": [
    "### Bash"
   ]
  },
  {
   "cell_type": "code",
   "execution_count": 40,
   "metadata": {},
   "outputs": [
    {
     "name": "stdout",
     "output_type": "stream",
     "text": [
      "/home/netbug/azam\r\n"
     ]
    }
   ],
   "source": [
    "! echo $PWD"
   ]
  },
  {
   "cell_type": "code",
   "execution_count": 42,
   "metadata": {},
   "outputs": [
    {
     "name": "stdout",
     "output_type": "stream",
     "text": [
      "DeepSpeech\t\t  irisface\t      TF Learn.ipynb\r\n",
      "face_detection_webcam.py  Lesson 2.ipynb      untitled\r\n",
      "facenet\t\t\t  object_position.py  Untitled.ipynb\r\n"
     ]
    }
   ],
   "source": [
    "! ls"
   ]
  },
  {
   "cell_type": "code",
   "execution_count": null,
   "metadata": {
    "collapsed": true
   },
   "outputs": [],
   "source": [
    "! cd"
   ]
  },
  {
   "cell_type": "code",
   "execution_count": null,
   "metadata": {
    "collapsed": true
   },
   "outputs": [],
   "source": [
    "! pip install"
   ]
  },
  {
   "cell_type": "code",
   "execution_count": null,
   "metadata": {
    "collapsed": true
   },
   "outputs": [],
   "source": [
    "! sudo jupyter nbextension enable --py --sys-prefix widgetsnbextension"
   ]
  },
  {
   "cell_type": "markdown",
   "metadata": {},
   "source": [
    "### Widgets"
   ]
  },
  {
   "cell_type": "code",
   "execution_count": 36,
   "metadata": {},
   "outputs": [
    {
     "data": {
      "application/vnd.jupyter.widget-view+json": {
       "model_id": "3aabfc34ac75430abd5018e07b81247e"
      }
     },
     "metadata": {},
     "output_type": "display_data"
    }
   ],
   "source": [
    "# radio\n",
    "import ipywidgets as widgets\n",
    "from IPython.display import display\n",
    "\n",
    "yo = widgets.RadioButtons(\n",
    "    options=['Team 1', 'Team 2', 'Team 3'],\n",
    "#     value='Team 0',\n",
    "    description='Rating system:',\n",
    "    disabled=False\n",
    ")\n",
    "display(yo)\n",
    "#yo.on_change(yo.value)"
   ]
  },
  {
   "cell_type": "code",
   "execution_count": 52,
   "metadata": {},
   "outputs": [
    {
     "data": {
      "application/vnd.jupyter.widget-view+json": {
       "model_id": "86721789ebd042e791fc8c7d6f8b7d9d"
      }
     },
     "metadata": {},
     "output_type": "display_data"
    }
   ],
   "source": [
    "widgets.Select(\n",
    "    options=['Linux', 'Windows', 'OSX'],\n",
    "    value='OSX',\n",
    "    # rows=10,\n",
    "    description='OS:',\n",
    "    disabled=False\n",
    ")"
   ]
  },
  {
   "cell_type": "code",
   "execution_count": 57,
   "metadata": {},
   "outputs": [
    {
     "data": {
      "application/vnd.jupyter.widget-view+json": {
       "model_id": "5cdb8e7a0bb94624b659eb032b4bf6e2"
      }
     },
     "metadata": {},
     "output_type": "display_data"
    }
   ],
   "source": [
    "widgets.SelectionSlider(\n",
    "    options=['1', '2', '3', '4'],\n",
    "    value='1',\n",
    "    description='Number',\n",
    "    disabled=False,\n",
    "    continuous_update=False,\n",
    "    orientation='horizontal',\n",
    "    readout=True\n",
    ")"
   ]
  },
  {
   "cell_type": "markdown",
   "metadata": {},
   "source": [
    "# III Git"
   ]
  },
  {
   "cell_type": "code",
   "execution_count": null,
   "metadata": {
    "collapsed": true
   },
   "outputs": [],
   "source": [
    "# sign in\n",
    "# create repo\n",
    "# save file\n",
    "# commit"
   ]
  },
  {
   "cell_type": "markdown",
   "metadata": {},
   "source": [
    "### Deploy your Notebook to Github pages"
   ]
  },
  {
   "cell_type": "markdown",
   "metadata": {
    "collapsed": true
   },
   "source": []
  },
  {
   "cell_type": "markdown",
   "metadata": {},
   "source": [
    "# IV Data in Python"
   ]
  },
  {
   "cell_type": "markdown",
   "metadata": {},
   "source": [
    "### Pandas"
   ]
  },
  {
   "cell_type": "code",
   "execution_count": 156,
   "metadata": {
    "collapsed": true
   },
   "outputs": [],
   "source": [
    "from pandas import DataFrame, read_csv\n",
    "import pandas as pd \n",
    "\n",
    "names = ['Bob','Jessica','Mary','John','Mel']\n",
    "births = [968, 155, 77, 578, 973]\n",
    "BabyDataSet = list(zip(names,births))\n",
    "\n",
    "# write to csv\n",
    "df = pd.DataFrame(data = BabyDataSet, columns=['Names', 'Births'])\n",
    "df.to_csv('test2.csv',index=False,header=False)\n",
    "\n",
    "# read from csv\n",
    "Location = r'test2.csv'\n",
    "df = pd.read_csv(Location, names=['Names','Births'])"
   ]
  },
  {
   "cell_type": "markdown",
   "metadata": {},
   "source": [
    "### Numpy"
   ]
  },
  {
   "cell_type": "code",
   "execution_count": 103,
   "metadata": {
    "scrolled": true
   },
   "outputs": [
    {
     "name": "stdout",
     "output_type": "stream",
     "text": [
      "DeepSpeech\t\t  irisface\t      test.csv\t      Untitled1.ipynb\r\n",
      "face_detection_webcam.py  Lesson 2.ipynb      TF Learn.ipynb  Untitled.ipynb\r\n",
      "facenet\t\t\t  object_position.py  untitled\r\n"
     ]
    }
   ],
   "source": [
    "!ls"
   ]
  },
  {
   "cell_type": "code",
   "execution_count": 124,
   "metadata": {},
   "outputs": [
    {
     "name": "stdout",
     "output_type": "stream",
     "text": [
      "[['Name', 'Test', 'Attendance', 'Class'], ['First', '0.1', '0.2', '0.3'], ['Second', '0.2', '0.3', '0.4'], ['Third', '0.3', '0.4', '0.5'], ['Fourth', '0.4', '0.5', '0.6'], ['Fifth', '0.5', '0.6', '0.7'], ['Sixth', '0.6', '0.7', '0.8'], ['Seventh', '0.7', '0.8', '0.9']]\n",
      "Second 0.9\n",
      "First 0.6\n",
      "Second 0.9\n",
      "Third 1.2\n",
      "Fourth 1.5\n",
      "Fifth 1.8\n",
      "Sixth 2.1\n",
      "Seventh 2.4\n"
     ]
    }
   ],
   "source": [
    "import numpy as np\n",
    "import csv\n",
    "\n",
    "with open(\"/home/netbug/azam/test.csv\", 'r') as f:\n",
    "    mtrx = list(csv.reader(f, delimiter=\",\"))\n",
    "    print(mtrx)\n",
    "    row = mtrx[2]\n",
    "    item = float(row[1]) + float(row[2]) + float(row[3])\n",
    "    print(row[0], item)\n",
    "    \n",
    "    iterrows = iter(mtrx)\n",
    "    next(iterrows)\n",
    "    for row in iterrows:\n",
    "        item = float(row[1]) + float(row[2]) + float(row[3])\n",
    "        print(row[0], '%.1f' % round(item, 1))\n"
   ]
  },
  {
   "cell_type": "code",
   "execution_count": 125,
   "metadata": {},
   "outputs": [
    {
     "data": {
      "text/plain": [
       "array([[ 0.29217981,  0.56151097],\n",
       "       [ 0.32464272,  0.52622503],\n",
       "       [ 0.8083693 ,  0.49472383]])"
      ]
     },
     "execution_count": 125,
     "metadata": {},
     "output_type": "execute_result"
    }
   ],
   "source": [
    "np.random.rand(3,2) # random matrix with a shape 3x2\n"
   ]
  },
  {
   "cell_type": "markdown",
   "metadata": {},
   "source": [
    "### Matplotlib"
   ]
  },
  {
   "cell_type": "code",
   "execution_count": 135,
   "metadata": {},
   "outputs": [
    {
     "data": {
      "image/png": "[encoded data removed]",
      "text/plain": [
       "<matplotlib.figure.Figure at 0x7f1922c2d198>"
      ]
     },
     "metadata": {},
     "output_type": "display_data"
    }
   ],
   "source": [
    "import matplotlib.pyplot as plt\n",
    "\n",
    "t11 = ['First', 'Second', 'Third', 'Fourth', 'Fifth', 'Sixth', 'Seventh']\n",
    "\n",
    "t12 = [173, 135, 141, 148, 140, 149, 152]\n",
    "\n",
    "plt.xlabel('Name')\n",
    "plt.ylabel('Overall Score')\n",
    "plt.title('Histogram of Scores')\n",
    "plt.bar(range(len(t12)), t12, align='center')\n",
    "plt.xticks(range(len(t12)), t11, size='medium')\n",
    "plt.grid(True)\n",
    "plt.show()"
   ]
  },
  {
   "cell_type": "code",
   "execution_count": 141,
   "metadata": {},
   "outputs": [
    {
     "data": {
      "image/png": "[encoded data removed]",
      "text/plain": [
       "<matplotlib.figure.Figure at 0x7f1916ec3588>"
      ]
     },
     "metadata": {},
     "output_type": "display_data"
    }
   ],
   "source": [
    "# Score of Age\n",
    "import numpy as np\n",
    "import matplotlib.pyplot as plt\n",
    "import matplotlib\n",
    "\n",
    "x = np.linspace(0, 5, 20)\n",
    "y = x ** 2\n",
    "\n",
    "plt.scatter(x, y, alpha=0.5, label=\"Score\")\n",
    "plt.xlabel(\"Age\")\n",
    "plt.ylabel(\"Score\")\n",
    "plt.legend(loc=2)\n",
    "plt.show()"
   ]
  },
  {
   "cell_type": "code",
   "execution_count": 153,
   "metadata": {},
   "outputs": [
    {
     "name": "stdout",
     "output_type": "stream",
     "text": [
      "y=5.000000x+(-3.947368)\n"
     ]
    },
    {
     "data": {
      "image/png": "[encoded data removed]",
      "text/plain": [
       "<matplotlib.figure.Figure at 0x7f1916ee7208>"
      ]
     },
     "metadata": {},
     "output_type": "display_data"
    }
   ],
   "source": [
    "import numpy as np\n",
    "import matplotlib.pyplot as plt\n",
    "import matplotlib\n",
    "\n",
    "x = np.linspace(0, 5, 20)\n",
    "y = x ** 2\n",
    "z = np.polyfit(x, y, 1)\n",
    "p = np.poly1d(z)\n",
    "plt.plot(x,p(x),\"r--\")\n",
    "\n",
    "print (\"y=%.6fx+(%.6f)\"%(z[0],z[1]))\n"
   ]
  },
  {
   "cell_type": "markdown",
   "metadata": {},
   "source": [
    "# V App"
   ]
  },
  {
   "cell_type": "markdown",
   "metadata": {},
   "source": [
    "### The best rating system via voting"
   ]
  },
  {
   "cell_type": "markdown",
   "metadata": {},
   "source": [
    "0. Random teams generator\n",
    "1. Discover featurs\n",
    "2. Discover correlation\n",
    "3. Generate data\n",
    "4. Write code\n",
    "5. Show plots\n",
    "6. Deploy to github\n",
    "7. Present\n",
    "8. Vote\n",
    "\n",
    "---\n"
   ]
  },
  {
   "cell_type": "code",
   "execution_count": 154,
   "metadata": {},
   "outputs": [
    {
     "data": {
      "text/plain": [
       "'12 1 8'"
      ]
     },
     "execution_count": 154,
     "metadata": {},
     "output_type": "execute_result"
    }
   ],
   "source": [
    "# random teams generation\n",
    "# data (generating)\n",
    "import random\n",
    "random.randint(1, 12)\n",
    "ls = ['1', '2', '3', '4', '5', '6','7', '8', '9', '10', '11', '12']\n",
    "team = ' '.join([random.choice(ls) for x in range(3)])\n",
    "team"
   ]
  },
  {
   "cell_type": "code",
   "execution_count": null,
   "metadata": {
    "collapsed": true
   },
   "outputs": [],
   "source": [
    "# formula"
   ]
  },
  {
   "cell_type": "markdown",
   "metadata": {},
   "source": [
    "# Democracy "
   ]
  },
  {
   "cell_type": "code",
   "execution_count": null,
   "metadata": {
    "collapsed": true
   },
   "outputs": [],
   "source": []
  }
 ],
 "metadata": {
  "kernelspec": {
   "display_name": "Python 3",
   "language": "python",
   "name": "python3"
  },
  "language_info": {
   "codemirror_mode": {
    "name": "ipython",
    "version": 3
   },
   "file_extension": ".py",
   "mimetype": "text/x-python",
   "name": "python",
   "nbconvert_exporter": "python",
   "pygments_lexer": "ipython3",
   "version": "3.5.2"
  }
 },
 "nbformat": 4,
 "nbformat_minor": 2
}
